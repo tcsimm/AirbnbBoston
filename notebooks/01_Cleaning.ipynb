{
 "cells": [
  {
   "cell_type": "code",
   "execution_count": 2,
   "id": "ce96a2a6",
   "metadata": {},
   "outputs": [],
   "source": [
    "# Part 1 - cleaning\n",
    "\n",
    "import pandas as pd\n",
    "import os\n",
    "\n",
    "# Load data\n",
    "listings = pd.read_csv(\"/Users/thomassimmons/airbnb-boston-analysis/data/raw/listings.csv\")\n",
    "reviews = pd.read_csv(\"/Users/thomassimmons/airbnb-boston-analysis/data/raw/reviews.csv\")"
   ]
  },
  {
   "cell_type": "code",
   "execution_count": 10,
   "id": "f465de8d",
   "metadata": {},
   "outputs": [
    {
     "name": "stderr",
     "output_type": "stream",
     "text": [
      "<>:5: SyntaxWarning: invalid escape sequence '\\$'\n",
      "<>:5: SyntaxWarning: invalid escape sequence '\\$'\n",
      "/var/folders/kf/nt6wlgn90dvc9wsk7ttkqs4w0000gn/T/ipykernel_36280/2759460000.py:5: SyntaxWarning: invalid escape sequence '\\$'\n",
      "  listings_clean[\"price\"] = listings_clean[\"price\"].replace('[\\$,]', '', regex=True).astype(float)\n"
     ]
    }
   ],
   "source": [
    "# Clean listings portion \n",
    "listings_clean = listings.dropna(subset=[\"price\"]).copy()\n",
    "\n",
    "# Convert price to float\n",
    "listings_clean[\"price\"] = listings_clean[\"price\"].replace('[\\$,]', '', regex=True).astype(float)\n",
    "\n",
    "# Fill missing review counts\n",
    "listings_clean[\"reviews_per_month\"] = listings_clean[\"reviews_per_month\"].fillna(0)\n",
    "\n",
    "# Standardize neighborhood names\n",
    "listings_clean[\"neighbourhood\"] = listings_clean[\"neighbourhood\"].str.title().str.strip()\n",
    "\n",
    "columns_to_keep = [\n",
    "    \"id\", \"name\", \"host_id\", \"host_name\", \"neighbourhood\", \"latitude\", \"longitude\",\n",
    "    \"room_type\", \"price\", \"minimum_nights\", \"number_of_reviews\", \"reviews_per_month\",\n",
    "    \"calculated_host_listings_count\", \"availability_365\"\n",
    "]\n",
    "listings_clean = listings_clean[columns_to_keep]\n",
    "\n",
    "# Clean reviews portion\n",
    "reviews[\"date\"] = pd.to_datetime(reviews[\"date\"], errors='coerce')\n",
    "reviews_clean = reviews.dropna(subset=[\"date\"])\n",
    "\n",
    "# Save cleaned files\n",
    "os.makedirs(\"data/cleaned\", exist_ok=True)\n",
    "listings_clean.to_csv(\"data/cleaned/listings_cleaned.csv\", index=False)\n",
    "reviews_clean.to_csv(\"data/cleaned/reviews_cleaned.csv\", index=False)"
   ]
  }
 ],
 "metadata": {
  "kernelspec": {
   "display_name": "base",
   "language": "python",
   "name": "python3"
  },
  "language_info": {
   "codemirror_mode": {
    "name": "ipython",
    "version": 3
   },
   "file_extension": ".py",
   "mimetype": "text/x-python",
   "name": "python",
   "nbconvert_exporter": "python",
   "pygments_lexer": "ipython3",
   "version": "3.12.4"
  }
 },
 "nbformat": 4,
 "nbformat_minor": 5
}
