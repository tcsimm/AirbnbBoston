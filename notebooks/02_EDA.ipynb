{
 "cells": [
  {
   "cell_type": "code",
   "execution_count": null,
   "id": "0d5012f0",
   "metadata": {},
   "outputs": [],
   "source": [
    "# 2 - EDA\n",
    "\n",
    "import pandas as pd\n",
    "import matplotlib.pyplot as plt\n",
    "import seaborn as sns\n",
    "import os\n",
    "\n",
    "# Set plot style\n",
    "sns.set(style=\"whitegrid\")\n",
    "\n",
    "# Load cleaned data\n",
    "listings_clean = pd.read_csv(\"/Users/thomassimmons/airbnb-boston-analysis/data/cleaned/listings_cleaned.csv\")\n",
    "\n",
    "# Create new folder for figures\n",
    "os.makedirs(\"figures\", exist_ok=True)"
   ]
  }
 ],
 "metadata": {
  "language_info": {
   "name": "python"
  }
 },
 "nbformat": 4,
 "nbformat_minor": 5
}
